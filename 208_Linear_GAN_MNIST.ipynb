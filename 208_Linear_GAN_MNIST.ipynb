{
  "cells": [
    {
      "cell_type": "code",
      "execution_count": 1,
      "id": "fd4f6674",
      "metadata": {
        "ExecuteTime": {
          "end_time": "2023-06-25T06:24:40.364779Z",
          "start_time": "2023-06-25T06:24:40.358719Z"
        },
        "id": "fd4f6674"
      },
      "outputs": [],
      "source": [
        "import numpy as np\n",
        "import torch\n",
        "import torch.nn as nn\n",
        "import torch.nn.functional as F\n",
        "from torch.utils.data import DataLoader, TensorDataset\n",
        "\n",
        "from sklearn.model_selection import train_test_split\n",
        "from sklearn.datasets import fetch_openml\n",
        "\n",
        "import matplotlib.pyplot as  plt\n",
        "from matplotlib_inline.backend_inline import set_matplotlib_formats\n",
        "set_matplotlib_formats('svg')\n",
        "\n",
        "import sys\n",
        "from torchsummary import summary\n",
        "import copy"
      ]
    },
    {
      "cell_type": "code",
      "execution_count": 2,
      "id": "6c7fbc19",
      "metadata": {
        "ExecuteTime": {
          "end_time": "2023-06-25T06:17:14.757360Z",
          "start_time": "2023-06-25T06:17:12.763086Z"
        },
        "colab": {
          "base_uri": "https://localhost:8080/"
        },
        "id": "6c7fbc19",
        "outputId": "6014457f-2de6-4350-d465-25ddc99e45e4"
      },
      "outputs": [
        {
          "output_type": "execute_result",
          "data": {
            "text/plain": [
              "device(type='cuda', index=0)"
            ]
          },
          "metadata": {},
          "execution_count": 2
        }
      ],
      "source": [
        "device = torch.device('cuda:0' if torch.cuda.is_available() else 'cpu')\n",
        "device"
      ]
    },
    {
      "cell_type": "code",
      "execution_count": 3,
      "id": "b0cf1072",
      "metadata": {
        "ExecuteTime": {
          "end_time": "2023-06-25T06:21:40.196318Z",
          "start_time": "2023-06-25T06:21:39.368929Z"
        },
        "colab": {
          "base_uri": "https://localhost:8080/"
        },
        "id": "b0cf1072",
        "outputId": "59ed2b69-136b-4109-d30e-a3dca37cb0a6"
      },
      "outputs": [
        {
          "output_type": "stream",
          "name": "stdout",
          "text": [
            "(20000, 784)\n"
          ]
        },
        {
          "output_type": "execute_result",
          "data": {
            "text/plain": [
              "torch.Size([20000, 784])"
            ]
          },
          "metadata": {},
          "execution_count": 3
        }
      ],
      "source": [
        "data = np.loadtxt(open('sample_data/mnist_train_small.csv'), delimiter=',')\n",
        "\n",
        "data = data[:, 1:] # No need to store labels as all are labeled to be real iamges\n",
        "print(data.shape)\n",
        "\n",
        "data = data/np.max(data)\n",
        "data = 2*data - 1\n",
        "\n",
        "data = torch.tensor( data ).float()\n",
        "batchSize = 100 # Custom implementation of batches\n",
        "data.shape"
      ]
    },
    {
      "cell_type": "markdown",
      "id": "aafc3c22",
      "metadata": {
        "id": "aafc3c22"
      },
      "source": [
        "# Discriminator Class"
      ]
    },
    {
      "cell_type": "code",
      "execution_count": 4,
      "id": "947f2cd3",
      "metadata": {
        "ExecuteTime": {
          "end_time": "2023-06-25T06:26:37.373131Z",
          "start_time": "2023-06-25T06:26:37.341341Z"
        },
        "colab": {
          "base_uri": "https://localhost:8080/"
        },
        "id": "947f2cd3",
        "outputId": "b9122a5a-23a3-40c8-df13-b7f6e4129cbc"
      },
      "outputs": [
        {
          "output_type": "execute_result",
          "data": {
            "text/plain": [
              "tensor([[0.5372],\n",
              "        [0.5041],\n",
              "        [0.5454],\n",
              "        [0.5538],\n",
              "        [0.5593],\n",
              "        [0.5379],\n",
              "        [0.5396],\n",
              "        [0.5235],\n",
              "        [0.5484],\n",
              "        [0.5464]], grad_fn=<SigmoidBackward0>)"
            ]
          },
          "metadata": {},
          "execution_count": 4
        }
      ],
      "source": [
        "class discriminator(nn.Module):\n",
        "    def __init__(self):\n",
        "        super().__init__()\n",
        "\n",
        "        self.fc1 = nn.Linear(784, 256)\n",
        "        self.fc2 = nn.Linear(256, 256)\n",
        "        self.fc3 = nn.Linear(256, 1)\n",
        "\n",
        "    def forward(self, x):\n",
        "        x = F.leaky_relu(self.fc1(x))\n",
        "        x = F.leaky_relu(self.fc2(x))\n",
        "        x = self.fc3(x)\n",
        "        return torch.sigmoid(x)\n",
        "\n",
        "dnet = discriminator()\n",
        "dnet(torch.randn((10, 784)))"
      ]
    },
    {
      "cell_type": "code",
      "execution_count": 5,
      "id": "8237aee4",
      "metadata": {
        "ExecuteTime": {
          "end_time": "2023-06-25T06:31:04.657603Z",
          "start_time": "2023-06-25T06:31:04.514058Z"
        },
        "colab": {
          "base_uri": "https://localhost:8080/",
          "height": 418
        },
        "id": "8237aee4",
        "outputId": "78e141f7-2a0e-43c1-8072-7a008ca7fb7a"
      },
      "outputs": [
        {
          "output_type": "display_data",
          "data": {
            "text/plain": [
              "<Figure size 640x480 with 1 Axes>"
            ],
            "image/svg+xml": "<?xml version=\"1.0\" encoding=\"utf-8\" standalone=\"no\"?>\n<!DOCTYPE svg PUBLIC \"-//W3C//DTD SVG 1.1//EN\"\n  \"http://www.w3.org/Graphics/SVG/1.1/DTD/svg11.dtd\">\n<svg xmlns:xlink=\"http://www.w3.org/1999/xlink\" width=\"300.237pt\" height=\"297.190125pt\" viewBox=\"0 0 300.237 297.190125\" xmlns=\"http://www.w3.org/2000/svg\" version=\"1.1\">\n <metadata>\n  <rdf:RDF xmlns:dc=\"http://purl.org/dc/elements/1.1/\" xmlns:cc=\"http://creativecommons.org/ns#\" xmlns:rdf=\"http://www.w3.org/1999/02/22-rdf-syntax-ns#\">\n   <cc:Work>\n    <dc:type rdf:resource=\"http://purl.org/dc/dcmitype/StillImage\"/>\n    <dc:date>2024-05-15T18:45:42.190572</dc:date>\n    <dc:format>image/svg+xml</dc:format>\n    <dc:creator>\n     <cc:Agent>\n      <dc:title>Matplotlib v3.7.1, https://matplotlib.org/</dc:title>\n     </cc:Agent>\n    </dc:creator>\n   </cc:Work>\n  </rdf:RDF>\n </metadata>\n <defs>\n  <style type=\"text/css\">*{stroke-linejoin: round; stroke-linecap: butt}</style>\n </defs>\n <g id=\"figure_1\">\n  <g id=\"patch_1\">\n   <path d=\"M -0 297.190125 \nL 300.237 297.190125 \nL 300.237 0 \nL -0 0 \nz\n\" style=\"fill: #ffffff\"/>\n  </g>\n  <g id=\"axes_1\">\n   <g id=\"patch_2\">\n    <path d=\"M 26.925 273.312 \nL 293.037 273.312 \nL 293.037 7.2 \nL 26.925 7.2 \nz\n\" style=\"fill: #ffffff\"/>\n   </g>\n   <g clip-path=\"url(#p5a5d504730)\">\n    <image xlink:href=\"data:image/png;base64,\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\" id=\"imagee51cb01fc2\" transform=\"scale(1 -1) translate(0 -266.4)\" x=\"26.925\" y=\"-6.912\" width=\"266.4\" height=\"266.4\"/>\n   </g>\n   <g id=\"matplotlib.axis_1\">\n    <g id=\"xtick_1\">\n     <g id=\"line2d_1\">\n      <defs>\n       <path id=\"ma2790dfb26\" d=\"M 0 0 \nL 0 3.5 \n\" style=\"stroke: #000000; stroke-width: 0.8\"/>\n      </defs>\n      <g>\n       <use xlink:href=\"#ma2790dfb26\" x=\"31.677\" y=\"273.312\" style=\"stroke: #000000; stroke-width: 0.8\"/>\n      </g>\n     </g>\n     <g id=\"text_1\">\n      <!-- 0 -->\n      <g transform=\"translate(28.49575 287.910437) scale(0.1 -0.1)\">\n       <defs>\n        <path id=\"DejaVuSans-30\" d=\"M 2034 4250 \nQ 1547 4250 1301 3770 \nQ 1056 3291 1056 2328 \nQ 1056 1369 1301 889 \nQ 1547 409 2034 409 \nQ 2525 409 2770 889 \nQ 3016 1369 3016 2328 \nQ 3016 3291 2770 3770 \nQ 2525 4250 2034 4250 \nz\nM 2034 4750 \nQ 2819 4750 3233 4129 \nQ 3647 3509 3647 2328 \nQ 3647 1150 3233 529 \nQ 2819 -91 2034 -91 \nQ 1250 -91 836 529 \nQ 422 1150 422 2328 \nQ 422 3509 836 4129 \nQ 1250 4750 2034 4750 \nz\n\" transform=\"scale(0.015625)\"/>\n       </defs>\n       <use xlink:href=\"#DejaVuSans-30\"/>\n      </g>\n     </g>\n    </g>\n    <g id=\"xtick_2\">\n     <g id=\"line2d_2\">\n      <g>\n       <use xlink:href=\"#ma2790dfb26\" x=\"79.197\" y=\"273.312\" style=\"stroke: #000000; stroke-width: 0.8\"/>\n      </g>\n     </g>\n     <g id=\"text_2\">\n      <!-- 5 -->\n      <g transform=\"translate(76.01575 287.910437) scale(0.1 -0.1)\">\n       <defs>\n        <path id=\"DejaVuSans-35\" d=\"M 691 4666 \nL 3169 4666 \nL 3169 4134 \nL 1269 4134 \nL 1269 2991 \nQ 1406 3038 1543 3061 \nQ 1681 3084 1819 3084 \nQ 2600 3084 3056 2656 \nQ 3513 2228 3513 1497 \nQ 3513 744 3044 326 \nQ 2575 -91 1722 -91 \nQ 1428 -91 1123 -41 \nQ 819 9 494 109 \nL 494 744 \nQ 775 591 1075 516 \nQ 1375 441 1709 441 \nQ 2250 441 2565 725 \nQ 2881 1009 2881 1497 \nQ 2881 1984 2565 2268 \nQ 2250 2553 1709 2553 \nQ 1456 2553 1204 2497 \nQ 953 2441 691 2322 \nL 691 4666 \nz\n\" transform=\"scale(0.015625)\"/>\n       </defs>\n       <use xlink:href=\"#DejaVuSans-35\"/>\n      </g>\n     </g>\n    </g>\n    <g id=\"xtick_3\">\n     <g id=\"line2d_3\">\n      <g>\n       <use xlink:href=\"#ma2790dfb26\" x=\"126.717\" y=\"273.312\" style=\"stroke: #000000; stroke-width: 0.8\"/>\n      </g>\n     </g>\n     <g id=\"text_3\">\n      <!-- 10 -->\n      <g transform=\"translate(120.3545 287.910437) scale(0.1 -0.1)\">\n       <defs>\n        <path id=\"DejaVuSans-31\" d=\"M 794 531 \nL 1825 531 \nL 1825 4091 \nL 703 3866 \nL 703 4441 \nL 1819 4666 \nL 2450 4666 \nL 2450 531 \nL 3481 531 \nL 3481 0 \nL 794 0 \nL 794 531 \nz\n\" transform=\"scale(0.015625)\"/>\n       </defs>\n       <use xlink:href=\"#DejaVuSans-31\"/>\n       <use xlink:href=\"#DejaVuSans-30\" x=\"63.623047\"/>\n      </g>\n     </g>\n    </g>\n    <g id=\"xtick_4\">\n     <g id=\"line2d_4\">\n      <g>\n       <use xlink:href=\"#ma2790dfb26\" x=\"174.237\" y=\"273.312\" style=\"stroke: #000000; stroke-width: 0.8\"/>\n      </g>\n     </g>\n     <g id=\"text_4\">\n      <!-- 15 -->\n      <g transform=\"translate(167.8745 287.910437) scale(0.1 -0.1)\">\n       <use xlink:href=\"#DejaVuSans-31\"/>\n       <use xlink:href=\"#DejaVuSans-35\" x=\"63.623047\"/>\n      </g>\n     </g>\n    </g>\n    <g id=\"xtick_5\">\n     <g id=\"line2d_5\">\n      <g>\n       <use xlink:href=\"#ma2790dfb26\" x=\"221.757\" y=\"273.312\" style=\"stroke: #000000; stroke-width: 0.8\"/>\n      </g>\n     </g>\n     <g id=\"text_5\">\n      <!-- 20 -->\n      <g transform=\"translate(215.3945 287.910437) scale(0.1 -0.1)\">\n       <defs>\n        <path id=\"DejaVuSans-32\" d=\"M 1228 531 \nL 3431 531 \nL 3431 0 \nL 469 0 \nL 469 531 \nQ 828 903 1448 1529 \nQ 2069 2156 2228 2338 \nQ 2531 2678 2651 2914 \nQ 2772 3150 2772 3378 \nQ 2772 3750 2511 3984 \nQ 2250 4219 1831 4219 \nQ 1534 4219 1204 4116 \nQ 875 4013 500 3803 \nL 500 4441 \nQ 881 4594 1212 4672 \nQ 1544 4750 1819 4750 \nQ 2544 4750 2975 4387 \nQ 3406 4025 3406 3419 \nQ 3406 3131 3298 2873 \nQ 3191 2616 2906 2266 \nQ 2828 2175 2409 1742 \nQ 1991 1309 1228 531 \nz\n\" transform=\"scale(0.015625)\"/>\n       </defs>\n       <use xlink:href=\"#DejaVuSans-32\"/>\n       <use xlink:href=\"#DejaVuSans-30\" x=\"63.623047\"/>\n      </g>\n     </g>\n    </g>\n    <g id=\"xtick_6\">\n     <g id=\"line2d_6\">\n      <g>\n       <use xlink:href=\"#ma2790dfb26\" x=\"269.277\" y=\"273.312\" style=\"stroke: #000000; stroke-width: 0.8\"/>\n      </g>\n     </g>\n     <g id=\"text_6\">\n      <!-- 25 -->\n      <g transform=\"translate(262.9145 287.910437) scale(0.1 -0.1)\">\n       <use xlink:href=\"#DejaVuSans-32\"/>\n       <use xlink:href=\"#DejaVuSans-35\" x=\"63.623047\"/>\n      </g>\n     </g>\n    </g>\n   </g>\n   <g id=\"matplotlib.axis_2\">\n    <g id=\"ytick_1\">\n     <g id=\"line2d_7\">\n      <defs>\n       <path id=\"m10b1497692\" d=\"M 0 0 \nL -3.5 0 \n\" style=\"stroke: #000000; stroke-width: 0.8\"/>\n      </defs>\n      <g>\n       <use xlink:href=\"#m10b1497692\" x=\"26.925\" y=\"11.952\" style=\"stroke: #000000; stroke-width: 0.8\"/>\n      </g>\n     </g>\n     <g id=\"text_7\">\n      <!-- 0 -->\n      <g transform=\"translate(13.5625 15.751219) scale(0.1 -0.1)\">\n       <use xlink:href=\"#DejaVuSans-30\"/>\n      </g>\n     </g>\n    </g>\n    <g id=\"ytick_2\">\n     <g id=\"line2d_8\">\n      <g>\n       <use xlink:href=\"#m10b1497692\" x=\"26.925\" y=\"59.472\" style=\"stroke: #000000; stroke-width: 0.8\"/>\n      </g>\n     </g>\n     <g id=\"text_8\">\n      <!-- 5 -->\n      <g transform=\"translate(13.5625 63.271219) scale(0.1 -0.1)\">\n       <use xlink:href=\"#DejaVuSans-35\"/>\n      </g>\n     </g>\n    </g>\n    <g id=\"ytick_3\">\n     <g id=\"line2d_9\">\n      <g>\n       <use xlink:href=\"#m10b1497692\" x=\"26.925\" y=\"106.992\" style=\"stroke: #000000; stroke-width: 0.8\"/>\n      </g>\n     </g>\n     <g id=\"text_9\">\n      <!-- 10 -->\n      <g transform=\"translate(7.2 110.791219) scale(0.1 -0.1)\">\n       <use xlink:href=\"#DejaVuSans-31\"/>\n       <use xlink:href=\"#DejaVuSans-30\" x=\"63.623047\"/>\n      </g>\n     </g>\n    </g>\n    <g id=\"ytick_4\">\n     <g id=\"line2d_10\">\n      <g>\n       <use xlink:href=\"#m10b1497692\" x=\"26.925\" y=\"154.512\" style=\"stroke: #000000; stroke-width: 0.8\"/>\n      </g>\n     </g>\n     <g id=\"text_10\">\n      <!-- 15 -->\n      <g transform=\"translate(7.2 158.311219) scale(0.1 -0.1)\">\n       <use xlink:href=\"#DejaVuSans-31\"/>\n       <use xlink:href=\"#DejaVuSans-35\" x=\"63.623047\"/>\n      </g>\n     </g>\n    </g>\n    <g id=\"ytick_5\">\n     <g id=\"line2d_11\">\n      <g>\n       <use xlink:href=\"#m10b1497692\" x=\"26.925\" y=\"202.032\" style=\"stroke: #000000; stroke-width: 0.8\"/>\n      </g>\n     </g>\n     <g id=\"text_11\">\n      <!-- 20 -->\n      <g transform=\"translate(7.2 205.831219) scale(0.1 -0.1)\">\n       <use xlink:href=\"#DejaVuSans-32\"/>\n       <use xlink:href=\"#DejaVuSans-30\" x=\"63.623047\"/>\n      </g>\n     </g>\n    </g>\n    <g id=\"ytick_6\">\n     <g id=\"line2d_12\">\n      <g>\n       <use xlink:href=\"#m10b1497692\" x=\"26.925\" y=\"249.552\" style=\"stroke: #000000; stroke-width: 0.8\"/>\n      </g>\n     </g>\n     <g id=\"text_12\">\n      <!-- 25 -->\n      <g transform=\"translate(7.2 253.351219) scale(0.1 -0.1)\">\n       <use xlink:href=\"#DejaVuSans-32\"/>\n       <use xlink:href=\"#DejaVuSans-35\" x=\"63.623047\"/>\n      </g>\n     </g>\n    </g>\n   </g>\n   <g id=\"patch_3\">\n    <path d=\"M 26.925 273.312 \nL 26.925 7.2 \n\" style=\"fill: none; stroke: #000000; stroke-width: 0.8; stroke-linejoin: miter; stroke-linecap: square\"/>\n   </g>\n   <g id=\"patch_4\">\n    <path d=\"M 293.037 273.312 \nL 293.037 7.2 \n\" style=\"fill: none; stroke: #000000; stroke-width: 0.8; stroke-linejoin: miter; stroke-linecap: square\"/>\n   </g>\n   <g id=\"patch_5\">\n    <path d=\"M 26.925 273.312 \nL 293.037 273.312 \n\" style=\"fill: none; stroke: #000000; stroke-width: 0.8; stroke-linejoin: miter; stroke-linecap: square\"/>\n   </g>\n   <g id=\"patch_6\">\n    <path d=\"M 26.925 7.2 \nL 293.037 7.2 \n\" style=\"fill: none; stroke: #000000; stroke-width: 0.8; stroke-linejoin: miter; stroke-linecap: square\"/>\n   </g>\n  </g>\n </g>\n <defs>\n  <clipPath id=\"p5a5d504730\">\n   <rect x=\"26.925\" y=\"7.2\" width=\"266.112\" height=\"266.112\"/>\n  </clipPath>\n </defs>\n</svg>\n"
          },
          "metadata": {}
        }
      ],
      "source": [
        "class generator(nn.Module):\n",
        "    def __init__(self):\n",
        "        super().__init__()\n",
        "\n",
        "        self.fc1 = nn.Linear(64, 256)\n",
        "        self.fc2 = nn.Linear(256, 256)\n",
        "        self.fc3 = nn.Linear(256, 784)\n",
        "\n",
        "    def forward(self, x):\n",
        "        x = F.leaky_relu(self.fc1(x))\n",
        "        x = F.leaky_relu(self.fc2(x))\n",
        "        x = self.fc3(x)\n",
        "        return torch.tanh(x)\n",
        "\n",
        "gnet = generator()\n",
        "plt.imshow(gnet(torch.randn((3, 64))).detach()[0,:].view(28,28), cmap='jet')\n",
        "plt.show()"
      ]
    },
    {
      "cell_type": "code",
      "execution_count": 6,
      "id": "7374169a",
      "metadata": {
        "ExecuteTime": {
          "end_time": "2023-06-25T06:33:28.791584Z",
          "start_time": "2023-06-25T06:33:28.780514Z"
        },
        "id": "7374169a"
      },
      "outputs": [],
      "source": [
        "loss_fxn = nn.BCELoss()\n",
        "\n",
        "gnet = generator().to(device)\n",
        "dnet = discriminator().to(device)\n",
        "\n",
        "d_optmiser = torch.optim.Adam(dnet.parameters(), lr=0.0003)\n",
        "g_optmiser = torch.optim.Adam(gnet.parameters(), lr=0.0003)"
      ]
    },
    {
      "cell_type": "code",
      "execution_count": null,
      "id": "5ae825b1",
      "metadata": {
        "ExecuteTime": {
          "end_time": "2023-06-25T06:50:14.721550Z",
          "start_time": "2023-06-25T06:50:02.861654Z"
        },
        "colab": {
          "base_uri": "https://localhost:8080/"
        },
        "id": "5ae825b1",
        "outputId": "177970e3-691c-4fca-9a9b-31576c47d9c8"
      },
      "outputs": [
        {
          "output_type": "stream",
          "name": "stdout",
          "text": [
            "Epoch No ->> 14500"
          ]
        }
      ],
      "source": [
        "epoches = 50000\n",
        "batchSize = 100 # Custom implementation of batches\n",
        "\n",
        "losses = np.zeros((epoches, 2))\n",
        "discriminator_decesion = np.zeros((epoches, 2))\n",
        "\n",
        "for epoch in range(epoches):\n",
        "    # Batch Creation\n",
        "    random_index = torch.randint(data.shape[0], (batchSize,))\n",
        "    real_images = data[random_index,:].to(device)\n",
        "    fake_images = gnet(torch.randn( (batchSize, 64) ).to(device))\n",
        "\n",
        "    real_labels = torch.ones((batchSize, 1)).to(device)\n",
        "    fake_labels = torch.zeros((batchSize, 1)).to(device)\n",
        "\n",
        "\n",
        "    # ================   Training starts - Discriminator   =================\n",
        "    y__real = dnet(real_images)\n",
        "    loss_real_disc = loss_fxn(y__real, real_labels)\n",
        "\n",
        "    y__fake = dnet(fake_images)\n",
        "    loss_fake_disc = loss_fxn(y__fake, fake_labels)\n",
        "\n",
        "    loss_disc = loss_fake_disc + loss_real_disc\n",
        "    losses[epoch,0] = loss_disc.item()\n",
        "    discriminator_decesion[epoch,0] = torch.mean((y__real > 0.5).float()).detach()\n",
        "\n",
        "    d_optmiser.zero_grad()\n",
        "    loss_disc.backward()\n",
        "    d_optmiser.step()\n",
        "\n",
        "\n",
        "\n",
        "\n",
        "    # ================   Training starts - Discriminator   =================\n",
        "    fake_images = gnet(torch.randn( (batchSize, 64) ).to(device))  # Create New Fake Images\n",
        "    y__fake = dnet(fake_images)\n",
        "\n",
        "    loss_generator = loss_fxn(y__fake, real_labels)\n",
        "\n",
        "    losses[epoch,1] = loss_generator.item()\n",
        "    discriminator_decesion[epoch,1] = torch.mean((y__fake > 0.5).float()).detach()\n",
        "\n",
        "    g_optmiser.zero_grad()\n",
        "    loss_generator.backward()\n",
        "    g_optmiser.step()\n",
        "\n",
        "\n",
        "    if (epoch+1)%100 == 0:\n",
        "        sys.stdout.write('\\r' + \"Epoch No ->> \" + str(epoch+1))"
      ]
    },
    {
      "cell_type": "code",
      "execution_count": null,
      "id": "12bc93cf",
      "metadata": {
        "ExecuteTime": {
          "end_time": "2023-06-25T06:58:57.717026Z",
          "start_time": "2023-06-25T06:58:57.237082Z"
        },
        "id": "12bc93cf"
      },
      "outputs": [],
      "source": [
        "fig, ax = plt.subplots(1,3,figsize=(12,4))\n",
        "\n",
        "ax[0].plot(losses)\n",
        "ax[0].legend(['Discriminator', 'Generator'])\n",
        "ax[0].set_ylabel(\"Loss\")\n",
        "ax[0].set_xlabel(\"Epoch\")\n",
        "ax[0].set_title(\"ModeL Loss\")\n",
        "ax[0].grid()\n",
        "# ax[0].set_ylim([1,2])\n",
        "\n",
        "\n",
        "ax[1].plot(losses[::5,0], losses[::5,1], 'k.', alpha=0.1)\n",
        "ax[1].set_ylabel(\"Discriminator Loss\")\n",
        "ax[1].set_xlabel(\"Generator Loss\")\n",
        "ax[1].set_title(\"Correlation of loss\")\n",
        "ax[1].grid()\n",
        "\n",
        "\n",
        "ax[2].plot(discriminator_decesion)\n",
        "ax[2].set_xlabel('Epochs')\n",
        "ax[2].set_ylabel('Probablity (\"real\")')\n",
        "ax[2].set_title('Discriminator output')\n",
        "ax[2].legend(['Real','Fake'])\n",
        "ax[2].grid()\n",
        "\n",
        "plt.show()"
      ]
    },
    {
      "cell_type": "code",
      "execution_count": null,
      "id": "f3ac7ee3",
      "metadata": {
        "ExecuteTime": {
          "end_time": "2023-06-25T07:06:07.981383Z",
          "start_time": "2023-06-25T07:06:07.386349Z"
        },
        "id": "f3ac7ee3"
      },
      "outputs": [],
      "source": [
        "gnet.eval()\n",
        "fake_data = gnet(torch.randn(12,64).to(device)).cpu()\n",
        "\n",
        "\n",
        "fig,axs = plt.subplots(3,4,figsize=(8,6))\n",
        "for i,ax in enumerate(axs.flatten()):\n",
        "    lets_see = dnet(fake_data[i,:,].to(device)).detach().item() > 0.5\n",
        "\n",
        "    cmp = 'gray' if lets_see else 'hot'\n",
        "    ax.imshow(fake_data[i,:,].detach().view(28,28),cmap=cmp)\n",
        "    ax.set_title(f\"Dscrmtr Pred : {lets_see}\")\n",
        "    ax.axis('off')\n",
        "\n",
        "plt.tight_layout()\n",
        "plt.show()"
      ]
    },
    {
      "cell_type": "code",
      "execution_count": null,
      "id": "b94918ea",
      "metadata": {
        "id": "b94918ea"
      },
      "outputs": [],
      "source": []
    }
  ],
  "metadata": {
    "kernelspec": {
      "display_name": "Python 3",
      "name": "python3"
    },
    "language_info": {
      "codemirror_mode": {
        "name": "ipython",
        "version": 3
      },
      "file_extension": ".py",
      "mimetype": "text/x-python",
      "name": "python",
      "nbconvert_exporter": "python",
      "pygments_lexer": "ipython3",
      "version": "3.10.6"
    },
    "colab": {
      "provenance": [],
      "gpuType": "T4"
    },
    "accelerator": "GPU"
  },
  "nbformat": 4,
  "nbformat_minor": 5
}